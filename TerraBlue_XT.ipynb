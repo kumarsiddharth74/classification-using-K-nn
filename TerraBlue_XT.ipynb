{
  "nbformat": 4,
  "nbformat_minor": 5,
  "metadata": {
    "kernelspec": {
      "display_name": "Python 3 (ipykernel)",
      "language": "python",
      "name": "python3"
    },
    "language_info": {
      "codemirror_mode": {
        "name": "ipython",
        "version": 3
      },
      "file_extension": ".py",
      "mimetype": "text/x-python",
      "name": "python",
      "nbconvert_exporter": "python",
      "pygments_lexer": "ipython3",
      "version": "3.8.11"
    },
    "colab": {
      "name": "TerraBlue XT.ipynb",
      "provenance": []
    }
  },
  "cells": [
    {
      "cell_type": "markdown",
      "metadata": {
        "id": "6Nq7RgDgD3Md"
      },
      "source": [
        "**simple machine learning model for classification**"
      ],
      "id": "6Nq7RgDgD3Md"
    },
    {
      "cell_type": "code",
      "metadata": {
        "id": "54700ff8"
      },
      "source": [
        "import numpy as np\n",
        "from statsmodels.tsa.stattools import adfuller"
      ],
      "id": "54700ff8",
      "execution_count": null,
      "outputs": []
    },
    {
      "cell_type": "code",
      "metadata": {
        "id": "ddb7aede"
      },
      "source": [
        "import pandas as pd\n",
        "df1=pd.read_csv('dataset.csv')"
      ],
      "id": "ddb7aede",
      "execution_count": null,
      "outputs": []
    },
    {
      "cell_type": "code",
      "metadata": {
        "id": "c4a679b8",
        "outputId": "5a4682e1-1869-453f-9bfc-529a044d70e9"
      },
      "source": [
        "df1"
      ],
      "id": "c4a679b8",
      "execution_count": null,
      "outputs": [
        {
          "data": {
            "text/html": [
              "<div>\n",
              "<style scoped>\n",
              "    .dataframe tbody tr th:only-of-type {\n",
              "        vertical-align: middle;\n",
              "    }\n",
              "\n",
              "    .dataframe tbody tr th {\n",
              "        vertical-align: top;\n",
              "    }\n",
              "\n",
              "    .dataframe thead th {\n",
              "        text-align: right;\n",
              "    }\n",
              "</style>\n",
              "<table border=\"1\" class=\"dataframe\">\n",
              "  <thead>\n",
              "    <tr style=\"text-align: right;\">\n",
              "      <th></th>\n",
              "      <th>C1</th>\n",
              "      <th>C2</th>\n",
              "      <th>C3</th>\n",
              "      <th>C4</th>\n",
              "      <th>C5</th>\n",
              "      <th>C6</th>\n",
              "      <th>C7</th>\n",
              "    </tr>\n",
              "  </thead>\n",
              "  <tbody>\n",
              "    <tr>\n",
              "      <th>0</th>\n",
              "      <td>P1</td>\n",
              "      <td>0.394667</td>\n",
              "      <td>0.0000</td>\n",
              "      <td>0.000000</td>\n",
              "      <td>0.000000</td>\n",
              "      <td>NaN</td>\n",
              "      <td>N</td>\n",
              "    </tr>\n",
              "    <tr>\n",
              "      <th>1</th>\n",
              "      <td>P1</td>\n",
              "      <td>0.387915</td>\n",
              "      <td>0.0000</td>\n",
              "      <td>-1.710853</td>\n",
              "      <td>0.000000</td>\n",
              "      <td>NaN</td>\n",
              "      <td>N</td>\n",
              "    </tr>\n",
              "    <tr>\n",
              "      <th>2</th>\n",
              "      <td>P1</td>\n",
              "      <td>0.361299</td>\n",
              "      <td>0.0104</td>\n",
              "      <td>-6.861376</td>\n",
              "      <td>0.000000</td>\n",
              "      <td>1.0</td>\n",
              "      <td>S</td>\n",
              "    </tr>\n",
              "    <tr>\n",
              "      <th>3</th>\n",
              "      <td>P1</td>\n",
              "      <td>0.488484</td>\n",
              "      <td>0.0104</td>\n",
              "      <td>35.202105</td>\n",
              "      <td>0.000000</td>\n",
              "      <td>1.0</td>\n",
              "      <td>S</td>\n",
              "    </tr>\n",
              "    <tr>\n",
              "      <th>4</th>\n",
              "      <td>P1</td>\n",
              "      <td>0.398206</td>\n",
              "      <td>0.0000</td>\n",
              "      <td>-18.481272</td>\n",
              "      <td>8.040560</td>\n",
              "      <td>NaN</td>\n",
              "      <td>N</td>\n",
              "    </tr>\n",
              "    <tr>\n",
              "      <th>...</th>\n",
              "      <td>...</td>\n",
              "      <td>...</td>\n",
              "      <td>...</td>\n",
              "      <td>...</td>\n",
              "      <td>...</td>\n",
              "      <td>...</td>\n",
              "      <td>...</td>\n",
              "    </tr>\n",
              "    <tr>\n",
              "      <th>22002</th>\n",
              "      <td>P39</td>\n",
              "      <td>0.554910</td>\n",
              "      <td>0.0000</td>\n",
              "      <td>1.123600</td>\n",
              "      <td>2.421191</td>\n",
              "      <td>NaN</td>\n",
              "      <td>N</td>\n",
              "    </tr>\n",
              "    <tr>\n",
              "      <th>22003</th>\n",
              "      <td>P39</td>\n",
              "      <td>0.532207</td>\n",
              "      <td>0.0000</td>\n",
              "      <td>-4.091244</td>\n",
              "      <td>1.984920</td>\n",
              "      <td>NaN</td>\n",
              "      <td>N</td>\n",
              "    </tr>\n",
              "    <tr>\n",
              "      <th>22004</th>\n",
              "      <td>P39</td>\n",
              "      <td>0.501031</td>\n",
              "      <td>0.0000</td>\n",
              "      <td>-5.857833</td>\n",
              "      <td>1.010012</td>\n",
              "      <td>NaN</td>\n",
              "      <td>N</td>\n",
              "    </tr>\n",
              "    <tr>\n",
              "      <th>22005</th>\n",
              "      <td>P39</td>\n",
              "      <td>0.511827</td>\n",
              "      <td>0.0000</td>\n",
              "      <td>2.154771</td>\n",
              "      <td>1.493184</td>\n",
              "      <td>NaN</td>\n",
              "      <td>N</td>\n",
              "    </tr>\n",
              "    <tr>\n",
              "      <th>22006</th>\n",
              "      <td>P39</td>\n",
              "      <td>0.509296</td>\n",
              "      <td>0.0000</td>\n",
              "      <td>-0.494660</td>\n",
              "      <td>1.803763</td>\n",
              "      <td>NaN</td>\n",
              "      <td>N</td>\n",
              "    </tr>\n",
              "  </tbody>\n",
              "</table>\n",
              "<p>22007 rows × 7 columns</p>\n",
              "</div>"
            ],
            "text/plain": [
              "        C1        C2      C3         C4        C5   C6 C7\n",
              "0       P1  0.394667  0.0000   0.000000  0.000000  NaN  N\n",
              "1       P1  0.387915  0.0000  -1.710853  0.000000  NaN  N\n",
              "2       P1  0.361299  0.0104  -6.861376  0.000000  1.0  S\n",
              "3       P1  0.488484  0.0104  35.202105  0.000000  1.0  S\n",
              "4       P1  0.398206  0.0000 -18.481272  8.040560  NaN  N\n",
              "...    ...       ...     ...        ...       ...  ... ..\n",
              "22002  P39  0.554910  0.0000   1.123600  2.421191  NaN  N\n",
              "22003  P39  0.532207  0.0000  -4.091244  1.984920  NaN  N\n",
              "22004  P39  0.501031  0.0000  -5.857833  1.010012  NaN  N\n",
              "22005  P39  0.511827  0.0000   2.154771  1.493184  NaN  N\n",
              "22006  P39  0.509296  0.0000  -0.494660  1.803763  NaN  N\n",
              "\n",
              "[22007 rows x 7 columns]"
            ]
          },
          "execution_count": 346,
          "metadata": {},
          "output_type": "execute_result"
        }
      ]
    },
    {
      "cell_type": "code",
      "metadata": {
        "id": "3fe20b5a"
      },
      "source": [
        "##calculate nan values present in the data set##"
      ],
      "id": "3fe20b5a",
      "execution_count": null,
      "outputs": []
    },
    {
      "cell_type": "code",
      "metadata": {
        "id": "a5528ef8",
        "outputId": "91e89419-2049-4a1f-fb3b-4894649632dd"
      },
      "source": [
        "total = df1.isnull().sum().sort_values(ascending=False)\n",
        "percent = ((df1.isnull().sum()/len(df1))*100).sort_values(ascending=True)\n",
        "missing_data = pd.concat([total, percent], axis=1, keys=['Total', 'Percent'])\n",
        "nan=missing_data[missing_data[\"Total\"]>0].index\n",
        "missing_data=missing_data[missing_data[\"Total\"]>0]\n",
        "nan=pd.DataFrame(nan, columns=['nan col'])\n",
        "nan\n",
        "j=[]\n",
        "for i in nan['nan col']:\n",
        "    j.append(df1[i].dtype)\n",
        "j=pd.DataFrame(j,columns=['type'])\n",
        "nan=pd.concat([nan,j],axis=1).set_index('nan col')\n",
        "nan=pd.concat([missing_data,nan],axis=1)\n",
        "nan"
      ],
      "id": "a5528ef8",
      "execution_count": null,
      "outputs": [
        {
          "data": {
            "text/html": [
              "<div>\n",
              "<style scoped>\n",
              "    .dataframe tbody tr th:only-of-type {\n",
              "        vertical-align: middle;\n",
              "    }\n",
              "\n",
              "    .dataframe tbody tr th {\n",
              "        vertical-align: top;\n",
              "    }\n",
              "\n",
              "    .dataframe thead th {\n",
              "        text-align: right;\n",
              "    }\n",
              "</style>\n",
              "<table border=\"1\" class=\"dataframe\">\n",
              "  <thead>\n",
              "    <tr style=\"text-align: right;\">\n",
              "      <th></th>\n",
              "      <th>Total</th>\n",
              "      <th>Percent</th>\n",
              "      <th>type</th>\n",
              "    </tr>\n",
              "  </thead>\n",
              "  <tbody>\n",
              "    <tr>\n",
              "      <th>C6</th>\n",
              "      <td>21106</td>\n",
              "      <td>95.905848</td>\n",
              "      <td>float64</td>\n",
              "    </tr>\n",
              "  </tbody>\n",
              "</table>\n",
              "</div>"
            ],
            "text/plain": [
              "    Total    Percent     type\n",
              "C6  21106  95.905848  float64"
            ]
          },
          "execution_count": 7,
          "metadata": {},
          "output_type": "execute_result"
        }
      ]
    },
    {
      "cell_type": "code",
      "metadata": {
        "id": "fee6eb32"
      },
      "source": [
        "## the describes the data set. but valid for only continous variables"
      ],
      "id": "fee6eb32",
      "execution_count": null,
      "outputs": []
    },
    {
      "cell_type": "code",
      "metadata": {
        "id": "dd09de1a",
        "outputId": "4d1a212a-4507-487f-dd9c-1ce5635eb567"
      },
      "source": [
        "df1.describe()"
      ],
      "id": "dd09de1a",
      "execution_count": null,
      "outputs": [
        {
          "data": {
            "text/html": [
              "<div>\n",
              "<style scoped>\n",
              "    .dataframe tbody tr th:only-of-type {\n",
              "        vertical-align: middle;\n",
              "    }\n",
              "\n",
              "    .dataframe tbody tr th {\n",
              "        vertical-align: top;\n",
              "    }\n",
              "\n",
              "    .dataframe thead th {\n",
              "        text-align: right;\n",
              "    }\n",
              "</style>\n",
              "<table border=\"1\" class=\"dataframe\">\n",
              "  <thead>\n",
              "    <tr style=\"text-align: right;\">\n",
              "      <th></th>\n",
              "      <th>C2</th>\n",
              "      <th>C3</th>\n",
              "      <th>C4</th>\n",
              "      <th>C5</th>\n",
              "      <th>C6</th>\n",
              "    </tr>\n",
              "  </thead>\n",
              "  <tbody>\n",
              "    <tr>\n",
              "      <th>count</th>\n",
              "      <td>22007.000000</td>\n",
              "      <td>22007.000000</td>\n",
              "      <td>22007.000000</td>\n",
              "      <td>22007.000000</td>\n",
              "      <td>901.0</td>\n",
              "    </tr>\n",
              "    <tr>\n",
              "      <th>mean</th>\n",
              "      <td>0.417560</td>\n",
              "      <td>0.012262</td>\n",
              "      <td>0.613107</td>\n",
              "      <td>2.494014</td>\n",
              "      <td>1.0</td>\n",
              "    </tr>\n",
              "    <tr>\n",
              "      <th>std</th>\n",
              "      <td>0.253368</td>\n",
              "      <td>0.085103</td>\n",
              "      <td>11.374086</td>\n",
              "      <td>5.584665</td>\n",
              "      <td>0.0</td>\n",
              "    </tr>\n",
              "    <tr>\n",
              "      <th>min</th>\n",
              "      <td>0.135146</td>\n",
              "      <td>0.000000</td>\n",
              "      <td>-85.450203</td>\n",
              "      <td>0.000000</td>\n",
              "      <td>1.0</td>\n",
              "    </tr>\n",
              "    <tr>\n",
              "      <th>25%</th>\n",
              "      <td>0.263494</td>\n",
              "      <td>0.000000</td>\n",
              "      <td>-3.429123</td>\n",
              "      <td>0.486256</td>\n",
              "      <td>1.0</td>\n",
              "    </tr>\n",
              "    <tr>\n",
              "      <th>50%</th>\n",
              "      <td>0.303054</td>\n",
              "      <td>0.000000</td>\n",
              "      <td>-0.136920</td>\n",
              "      <td>1.208030</td>\n",
              "      <td>1.0</td>\n",
              "    </tr>\n",
              "    <tr>\n",
              "      <th>75%</th>\n",
              "      <td>0.506786</td>\n",
              "      <td>0.000000</td>\n",
              "      <td>3.121814</td>\n",
              "      <td>2.745452</td>\n",
              "      <td>1.0</td>\n",
              "    </tr>\n",
              "    <tr>\n",
              "      <th>max</th>\n",
              "      <td>1.641544</td>\n",
              "      <td>1.336000</td>\n",
              "      <td>344.552351</td>\n",
              "      <td>146.158245</td>\n",
              "      <td>1.0</td>\n",
              "    </tr>\n",
              "  </tbody>\n",
              "</table>\n",
              "</div>"
            ],
            "text/plain": [
              "                 C2            C3            C4            C5     C6\n",
              "count  22007.000000  22007.000000  22007.000000  22007.000000  901.0\n",
              "mean       0.417560      0.012262      0.613107      2.494014    1.0\n",
              "std        0.253368      0.085103     11.374086      5.584665    0.0\n",
              "min        0.135146      0.000000    -85.450203      0.000000    1.0\n",
              "25%        0.263494      0.000000     -3.429123      0.486256    1.0\n",
              "50%        0.303054      0.000000     -0.136920      1.208030    1.0\n",
              "75%        0.506786      0.000000      3.121814      2.745452    1.0\n",
              "max        1.641544      1.336000    344.552351    146.158245    1.0"
            ]
          },
          "execution_count": 22,
          "metadata": {},
          "output_type": "execute_result"
        }
      ]
    },
    {
      "cell_type": "code",
      "metadata": {
        "id": "9d95c777"
      },
      "source": [
        "###### question 1"
      ],
      "id": "9d95c777",
      "execution_count": null,
      "outputs": []
    },
    {
      "cell_type": "code",
      "metadata": {
        "id": "1a611183"
      },
      "source": [
        "## this describes the dataset but for only categorical features"
      ],
      "id": "1a611183",
      "execution_count": null,
      "outputs": []
    },
    {
      "cell_type": "code",
      "metadata": {
        "id": "f2efb619",
        "outputId": "084ce379-1357-49a8-cee6-2bb0982acddd"
      },
      "source": [
        "df1.describe(include=object)"
      ],
      "id": "f2efb619",
      "execution_count": null,
      "outputs": [
        {
          "data": {
            "text/html": [
              "<div>\n",
              "<style scoped>\n",
              "    .dataframe tbody tr th:only-of-type {\n",
              "        vertical-align: middle;\n",
              "    }\n",
              "\n",
              "    .dataframe tbody tr th {\n",
              "        vertical-align: top;\n",
              "    }\n",
              "\n",
              "    .dataframe thead th {\n",
              "        text-align: right;\n",
              "    }\n",
              "</style>\n",
              "<table border=\"1\" class=\"dataframe\">\n",
              "  <thead>\n",
              "    <tr style=\"text-align: right;\">\n",
              "      <th></th>\n",
              "      <th>C1</th>\n",
              "      <th>C7</th>\n",
              "    </tr>\n",
              "  </thead>\n",
              "  <tbody>\n",
              "    <tr>\n",
              "      <th>count</th>\n",
              "      <td>22007</td>\n",
              "      <td>22007</td>\n",
              "    </tr>\n",
              "    <tr>\n",
              "      <th>unique</th>\n",
              "      <td>39</td>\n",
              "      <td>3</td>\n",
              "    </tr>\n",
              "    <tr>\n",
              "      <th>top</th>\n",
              "      <td>P6</td>\n",
              "      <td>N</td>\n",
              "    </tr>\n",
              "    <tr>\n",
              "      <th>freq</th>\n",
              "      <td>2217</td>\n",
              "      <td>21106</td>\n",
              "    </tr>\n",
              "  </tbody>\n",
              "</table>\n",
              "</div>"
            ],
            "text/plain": [
              "           C1     C7\n",
              "count   22007  22007\n",
              "unique     39      3\n",
              "top        P6      N\n",
              "freq     2217  21106"
            ]
          },
          "execution_count": 29,
          "metadata": {},
          "output_type": "execute_result"
        }
      ]
    },
    {
      "cell_type": "code",
      "metadata": {
        "id": "11a6ab32"
      },
      "source": [
        "## so we can see C7 conatains 3 unique category. lets see what the are"
      ],
      "id": "11a6ab32",
      "execution_count": null,
      "outputs": []
    },
    {
      "cell_type": "code",
      "metadata": {
        "id": "aa725789",
        "outputId": "2e61e4f6-53b9-421f-8166-30824226f349"
      },
      "source": [
        "df1.C7.unique()"
      ],
      "id": "aa725789",
      "execution_count": null,
      "outputs": [
        {
          "data": {
            "text/plain": [
              "array(['N', 'S', 'I'], dtype=object)"
            ]
          },
          "execution_count": 23,
          "metadata": {},
          "output_type": "execute_result"
        }
      ]
    },
    {
      "cell_type": "code",
      "metadata": {
        "id": "0c0b644a"
      },
      "source": [
        "## let us create 3 different dataframe for N,S,I. to see how they relate to C6"
      ],
      "id": "0c0b644a",
      "execution_count": null,
      "outputs": []
    },
    {
      "cell_type": "code",
      "metadata": {
        "id": "123ed858",
        "outputId": "e77ff527-1aba-4c60-988c-6ae49ef6a1db"
      },
      "source": [
        "dfs=df1[df1['C7']=='S']\n",
        "dfs"
      ],
      "id": "123ed858",
      "execution_count": null,
      "outputs": [
        {
          "data": {
            "text/html": [
              "<div>\n",
              "<style scoped>\n",
              "    .dataframe tbody tr th:only-of-type {\n",
              "        vertical-align: middle;\n",
              "    }\n",
              "\n",
              "    .dataframe tbody tr th {\n",
              "        vertical-align: top;\n",
              "    }\n",
              "\n",
              "    .dataframe thead th {\n",
              "        text-align: right;\n",
              "    }\n",
              "</style>\n",
              "<table border=\"1\" class=\"dataframe\">\n",
              "  <thead>\n",
              "    <tr style=\"text-align: right;\">\n",
              "      <th></th>\n",
              "      <th>C1</th>\n",
              "      <th>C2</th>\n",
              "      <th>C3</th>\n",
              "      <th>C4</th>\n",
              "      <th>C5</th>\n",
              "      <th>C6</th>\n",
              "      <th>C7</th>\n",
              "    </tr>\n",
              "  </thead>\n",
              "  <tbody>\n",
              "    <tr>\n",
              "      <th>2</th>\n",
              "      <td>P1</td>\n",
              "      <td>0.361299</td>\n",
              "      <td>0.0104</td>\n",
              "      <td>-6.861376</td>\n",
              "      <td>0.000000</td>\n",
              "      <td>1.0</td>\n",
              "      <td>S</td>\n",
              "    </tr>\n",
              "    <tr>\n",
              "      <th>3</th>\n",
              "      <td>P1</td>\n",
              "      <td>0.488484</td>\n",
              "      <td>0.0104</td>\n",
              "      <td>35.202105</td>\n",
              "      <td>0.000000</td>\n",
              "      <td>1.0</td>\n",
              "      <td>S</td>\n",
              "    </tr>\n",
              "    <tr>\n",
              "      <th>668</th>\n",
              "      <td>P2</td>\n",
              "      <td>1.106672</td>\n",
              "      <td>0.2864</td>\n",
              "      <td>7.066163</td>\n",
              "      <td>4.225652</td>\n",
              "      <td>1.0</td>\n",
              "      <td>S</td>\n",
              "    </tr>\n",
              "    <tr>\n",
              "      <th>669</th>\n",
              "      <td>P2</td>\n",
              "      <td>1.045226</td>\n",
              "      <td>0.2864</td>\n",
              "      <td>-5.552271</td>\n",
              "      <td>1.957005</td>\n",
              "      <td>1.0</td>\n",
              "      <td>S</td>\n",
              "    </tr>\n",
              "    <tr>\n",
              "      <th>670</th>\n",
              "      <td>P2</td>\n",
              "      <td>1.105857</td>\n",
              "      <td>0.2864</td>\n",
              "      <td>5.800768</td>\n",
              "      <td>0.619465</td>\n",
              "      <td>1.0</td>\n",
              "      <td>S</td>\n",
              "    </tr>\n",
              "    <tr>\n",
              "      <th>...</th>\n",
              "      <td>...</td>\n",
              "      <td>...</td>\n",
              "      <td>...</td>\n",
              "      <td>...</td>\n",
              "      <td>...</td>\n",
              "      <td>...</td>\n",
              "      <td>...</td>\n",
              "    </tr>\n",
              "    <tr>\n",
              "      <th>21703</th>\n",
              "      <td>P39</td>\n",
              "      <td>0.945591</td>\n",
              "      <td>0.2369</td>\n",
              "      <td>-12.510519</td>\n",
              "      <td>12.026401</td>\n",
              "      <td>1.0</td>\n",
              "      <td>S</td>\n",
              "    </tr>\n",
              "    <tr>\n",
              "      <th>21853</th>\n",
              "      <td>P39</td>\n",
              "      <td>0.629905</td>\n",
              "      <td>0.1596</td>\n",
              "      <td>-8.621548</td>\n",
              "      <td>3.401927</td>\n",
              "      <td>1.0</td>\n",
              "      <td>S</td>\n",
              "    </tr>\n",
              "    <tr>\n",
              "      <th>21854</th>\n",
              "      <td>P39</td>\n",
              "      <td>1.028070</td>\n",
              "      <td>0.1596</td>\n",
              "      <td>63.210289</td>\n",
              "      <td>22.724290</td>\n",
              "      <td>1.0</td>\n",
              "      <td>S</td>\n",
              "    </tr>\n",
              "    <tr>\n",
              "      <th>21855</th>\n",
              "      <td>P39</td>\n",
              "      <td>0.932488</td>\n",
              "      <td>0.1596</td>\n",
              "      <td>-9.297242</td>\n",
              "      <td>13.449754</td>\n",
              "      <td>1.0</td>\n",
              "      <td>S</td>\n",
              "    </tr>\n",
              "    <tr>\n",
              "      <th>21856</th>\n",
              "      <td>P39</td>\n",
              "      <td>0.719736</td>\n",
              "      <td>0.1596</td>\n",
              "      <td>-22.815493</td>\n",
              "      <td>10.230643</td>\n",
              "      <td>1.0</td>\n",
              "      <td>S</td>\n",
              "    </tr>\n",
              "  </tbody>\n",
              "</table>\n",
              "<p>698 rows × 7 columns</p>\n",
              "</div>"
            ],
            "text/plain": [
              "        C1        C2      C3         C4         C5   C6 C7\n",
              "2       P1  0.361299  0.0104  -6.861376   0.000000  1.0  S\n",
              "3       P1  0.488484  0.0104  35.202105   0.000000  1.0  S\n",
              "668     P2  1.106672  0.2864   7.066163   4.225652  1.0  S\n",
              "669     P2  1.045226  0.2864  -5.552271   1.957005  1.0  S\n",
              "670     P2  1.105857  0.2864   5.800768   0.619465  1.0  S\n",
              "...    ...       ...     ...        ...        ...  ... ..\n",
              "21703  P39  0.945591  0.2369 -12.510519  12.026401  1.0  S\n",
              "21853  P39  0.629905  0.1596  -8.621548   3.401927  1.0  S\n",
              "21854  P39  1.028070  0.1596  63.210289  22.724290  1.0  S\n",
              "21855  P39  0.932488  0.1596  -9.297242  13.449754  1.0  S\n",
              "21856  P39  0.719736  0.1596 -22.815493  10.230643  1.0  S\n",
              "\n",
              "[698 rows x 7 columns]"
            ]
          },
          "execution_count": 32,
          "metadata": {},
          "output_type": "execute_result"
        }
      ]
    },
    {
      "cell_type": "code",
      "metadata": {
        "id": "d75b09b3"
      },
      "source": [
        "#let us see if c6 contains any other value except 1"
      ],
      "id": "d75b09b3",
      "execution_count": null,
      "outputs": []
    },
    {
      "cell_type": "code",
      "metadata": {
        "id": "8174cc64",
        "outputId": "27bc21af-2d5c-4afd-a8b4-37e99b1984bb"
      },
      "source": [
        "dfs.C6.unique()"
      ],
      "id": "8174cc64",
      "execution_count": null,
      "outputs": [
        {
          "data": {
            "text/plain": [
              "array([1.])"
            ]
          },
          "execution_count": 42,
          "metadata": {},
          "output_type": "execute_result"
        }
      ]
    },
    {
      "cell_type": "code",
      "metadata": {
        "id": "adc847cb",
        "outputId": "a2ed77ee-e807-441a-b496-9c56b1429557"
      },
      "source": [
        "dfs=df1[df1['C7']=='S']\n",
        "dfs\n"
      ],
      "id": "adc847cb",
      "execution_count": null,
      "outputs": [
        {
          "data": {
            "text/html": [
              "<div>\n",
              "<style scoped>\n",
              "    .dataframe tbody tr th:only-of-type {\n",
              "        vertical-align: middle;\n",
              "    }\n",
              "\n",
              "    .dataframe tbody tr th {\n",
              "        vertical-align: top;\n",
              "    }\n",
              "\n",
              "    .dataframe thead th {\n",
              "        text-align: right;\n",
              "    }\n",
              "</style>\n",
              "<table border=\"1\" class=\"dataframe\">\n",
              "  <thead>\n",
              "    <tr style=\"text-align: right;\">\n",
              "      <th></th>\n",
              "      <th>C1</th>\n",
              "      <th>C2</th>\n",
              "      <th>C3</th>\n",
              "      <th>C4</th>\n",
              "      <th>C5</th>\n",
              "      <th>C6</th>\n",
              "      <th>C7</th>\n",
              "    </tr>\n",
              "  </thead>\n",
              "  <tbody>\n",
              "    <tr>\n",
              "      <th>2</th>\n",
              "      <td>P1</td>\n",
              "      <td>0.361299</td>\n",
              "      <td>0.0104</td>\n",
              "      <td>-6.861376</td>\n",
              "      <td>0.000000</td>\n",
              "      <td>1.0</td>\n",
              "      <td>S</td>\n",
              "    </tr>\n",
              "    <tr>\n",
              "      <th>3</th>\n",
              "      <td>P1</td>\n",
              "      <td>0.488484</td>\n",
              "      <td>0.0104</td>\n",
              "      <td>35.202105</td>\n",
              "      <td>0.000000</td>\n",
              "      <td>1.0</td>\n",
              "      <td>S</td>\n",
              "    </tr>\n",
              "    <tr>\n",
              "      <th>668</th>\n",
              "      <td>P2</td>\n",
              "      <td>1.106672</td>\n",
              "      <td>0.2864</td>\n",
              "      <td>7.066163</td>\n",
              "      <td>4.225652</td>\n",
              "      <td>1.0</td>\n",
              "      <td>S</td>\n",
              "    </tr>\n",
              "    <tr>\n",
              "      <th>669</th>\n",
              "      <td>P2</td>\n",
              "      <td>1.045226</td>\n",
              "      <td>0.2864</td>\n",
              "      <td>-5.552271</td>\n",
              "      <td>1.957005</td>\n",
              "      <td>1.0</td>\n",
              "      <td>S</td>\n",
              "    </tr>\n",
              "    <tr>\n",
              "      <th>670</th>\n",
              "      <td>P2</td>\n",
              "      <td>1.105857</td>\n",
              "      <td>0.2864</td>\n",
              "      <td>5.800768</td>\n",
              "      <td>0.619465</td>\n",
              "      <td>1.0</td>\n",
              "      <td>S</td>\n",
              "    </tr>\n",
              "    <tr>\n",
              "      <th>...</th>\n",
              "      <td>...</td>\n",
              "      <td>...</td>\n",
              "      <td>...</td>\n",
              "      <td>...</td>\n",
              "      <td>...</td>\n",
              "      <td>...</td>\n",
              "      <td>...</td>\n",
              "    </tr>\n",
              "    <tr>\n",
              "      <th>21703</th>\n",
              "      <td>P39</td>\n",
              "      <td>0.945591</td>\n",
              "      <td>0.2369</td>\n",
              "      <td>-12.510519</td>\n",
              "      <td>12.026401</td>\n",
              "      <td>1.0</td>\n",
              "      <td>S</td>\n",
              "    </tr>\n",
              "    <tr>\n",
              "      <th>21853</th>\n",
              "      <td>P39</td>\n",
              "      <td>0.629905</td>\n",
              "      <td>0.1596</td>\n",
              "      <td>-8.621548</td>\n",
              "      <td>3.401927</td>\n",
              "      <td>1.0</td>\n",
              "      <td>S</td>\n",
              "    </tr>\n",
              "    <tr>\n",
              "      <th>21854</th>\n",
              "      <td>P39</td>\n",
              "      <td>1.028070</td>\n",
              "      <td>0.1596</td>\n",
              "      <td>63.210289</td>\n",
              "      <td>22.724290</td>\n",
              "      <td>1.0</td>\n",
              "      <td>S</td>\n",
              "    </tr>\n",
              "    <tr>\n",
              "      <th>21855</th>\n",
              "      <td>P39</td>\n",
              "      <td>0.932488</td>\n",
              "      <td>0.1596</td>\n",
              "      <td>-9.297242</td>\n",
              "      <td>13.449754</td>\n",
              "      <td>1.0</td>\n",
              "      <td>S</td>\n",
              "    </tr>\n",
              "    <tr>\n",
              "      <th>21856</th>\n",
              "      <td>P39</td>\n",
              "      <td>0.719736</td>\n",
              "      <td>0.1596</td>\n",
              "      <td>-22.815493</td>\n",
              "      <td>10.230643</td>\n",
              "      <td>1.0</td>\n",
              "      <td>S</td>\n",
              "    </tr>\n",
              "  </tbody>\n",
              "</table>\n",
              "<p>698 rows × 7 columns</p>\n",
              "</div>"
            ],
            "text/plain": [
              "        C1        C2      C3         C4         C5   C6 C7\n",
              "2       P1  0.361299  0.0104  -6.861376   0.000000  1.0  S\n",
              "3       P1  0.488484  0.0104  35.202105   0.000000  1.0  S\n",
              "668     P2  1.106672  0.2864   7.066163   4.225652  1.0  S\n",
              "669     P2  1.045226  0.2864  -5.552271   1.957005  1.0  S\n",
              "670     P2  1.105857  0.2864   5.800768   0.619465  1.0  S\n",
              "...    ...       ...     ...        ...        ...  ... ..\n",
              "21703  P39  0.945591  0.2369 -12.510519  12.026401  1.0  S\n",
              "21853  P39  0.629905  0.1596  -8.621548   3.401927  1.0  S\n",
              "21854  P39  1.028070  0.1596  63.210289  22.724290  1.0  S\n",
              "21855  P39  0.932488  0.1596  -9.297242  13.449754  1.0  S\n",
              "21856  P39  0.719736  0.1596 -22.815493  10.230643  1.0  S\n",
              "\n",
              "[698 rows x 7 columns]"
            ]
          },
          "execution_count": 44,
          "metadata": {},
          "output_type": "execute_result"
        }
      ]
    },
    {
      "cell_type": "code",
      "metadata": {
        "id": "3ac9844d",
        "outputId": "174607d1-9bfa-46a3-a4ef-b1b35cf39781"
      },
      "source": [
        "dfn.C6.unique()"
      ],
      "id": "3ac9844d",
      "execution_count": null,
      "outputs": [
        {
          "data": {
            "text/plain": [
              "array([nan])"
            ]
          },
          "execution_count": 48,
          "metadata": {},
          "output_type": "execute_result"
        }
      ]
    },
    {
      "cell_type": "code",
      "metadata": {
        "id": "2c34afcd",
        "outputId": "13cbe670-72eb-434d-b225-c9034c0f1c7a"
      },
      "source": [
        "dfi=df1[df1['C7']=='I']\n",
        "dfi"
      ],
      "id": "2c34afcd",
      "execution_count": null,
      "outputs": [
        {
          "data": {
            "text/html": [
              "<div>\n",
              "<style scoped>\n",
              "    .dataframe tbody tr th:only-of-type {\n",
              "        vertical-align: middle;\n",
              "    }\n",
              "\n",
              "    .dataframe tbody tr th {\n",
              "        vertical-align: top;\n",
              "    }\n",
              "\n",
              "    .dataframe thead th {\n",
              "        text-align: right;\n",
              "    }\n",
              "</style>\n",
              "<table border=\"1\" class=\"dataframe\">\n",
              "  <thead>\n",
              "    <tr style=\"text-align: right;\">\n",
              "      <th></th>\n",
              "      <th>C1</th>\n",
              "      <th>C2</th>\n",
              "      <th>C3</th>\n",
              "      <th>C4</th>\n",
              "      <th>C5</th>\n",
              "      <th>C6</th>\n",
              "      <th>C7</th>\n",
              "    </tr>\n",
              "  </thead>\n",
              "  <tbody>\n",
              "    <tr>\n",
              "      <th>640</th>\n",
              "      <td>P1</td>\n",
              "      <td>0.396344</td>\n",
              "      <td>0.3774</td>\n",
              "      <td>10.595758</td>\n",
              "      <td>8.196581</td>\n",
              "      <td>1.0</td>\n",
              "      <td>I</td>\n",
              "    </tr>\n",
              "    <tr>\n",
              "      <th>641</th>\n",
              "      <td>P1</td>\n",
              "      <td>0.519790</td>\n",
              "      <td>0.3774</td>\n",
              "      <td>31.146135</td>\n",
              "      <td>17.518175</td>\n",
              "      <td>1.0</td>\n",
              "      <td>I</td>\n",
              "    </tr>\n",
              "    <tr>\n",
              "      <th>642</th>\n",
              "      <td>P1</td>\n",
              "      <td>0.746883</td>\n",
              "      <td>0.3774</td>\n",
              "      <td>43.689390</td>\n",
              "      <td>27.477392</td>\n",
              "      <td>1.0</td>\n",
              "      <td>I</td>\n",
              "    </tr>\n",
              "    <tr>\n",
              "      <th>643</th>\n",
              "      <td>P1</td>\n",
              "      <td>1.058241</td>\n",
              "      <td>0.3774</td>\n",
              "      <td>41.687670</td>\n",
              "      <td>53.899902</td>\n",
              "      <td>1.0</td>\n",
              "      <td>I</td>\n",
              "    </tr>\n",
              "    <tr>\n",
              "      <th>644</th>\n",
              "      <td>P1</td>\n",
              "      <td>1.075354</td>\n",
              "      <td>0.3774</td>\n",
              "      <td>1.617172</td>\n",
              "      <td>95.150161</td>\n",
              "      <td>1.0</td>\n",
              "      <td>I</td>\n",
              "    </tr>\n",
              "    <tr>\n",
              "      <th>...</th>\n",
              "      <td>...</td>\n",
              "      <td>...</td>\n",
              "      <td>...</td>\n",
              "      <td>...</td>\n",
              "      <td>...</td>\n",
              "      <td>...</td>\n",
              "      <td>...</td>\n",
              "    </tr>\n",
              "    <tr>\n",
              "      <th>19706</th>\n",
              "      <td>P38</td>\n",
              "      <td>0.582631</td>\n",
              "      <td>0.2213</td>\n",
              "      <td>78.014906</td>\n",
              "      <td>68.625281</td>\n",
              "      <td>1.0</td>\n",
              "      <td>I</td>\n",
              "    </tr>\n",
              "    <tr>\n",
              "      <th>19707</th>\n",
              "      <td>P38</td>\n",
              "      <td>0.798432</td>\n",
              "      <td>0.2213</td>\n",
              "      <td>37.038953</td>\n",
              "      <td>58.965505</td>\n",
              "      <td>1.0</td>\n",
              "      <td>I</td>\n",
              "    </tr>\n",
              "    <tr>\n",
              "      <th>19708</th>\n",
              "      <td>P38</td>\n",
              "      <td>0.934530</td>\n",
              "      <td>0.2213</td>\n",
              "      <td>17.045683</td>\n",
              "      <td>57.641299</td>\n",
              "      <td>1.0</td>\n",
              "      <td>I</td>\n",
              "    </tr>\n",
              "    <tr>\n",
              "      <th>21851</th>\n",
              "      <td>P39</td>\n",
              "      <td>0.559466</td>\n",
              "      <td>0.1596</td>\n",
              "      <td>1.100819</td>\n",
              "      <td>2.167281</td>\n",
              "      <td>1.0</td>\n",
              "      <td>I</td>\n",
              "    </tr>\n",
              "    <tr>\n",
              "      <th>21852</th>\n",
              "      <td>P39</td>\n",
              "      <td>0.689337</td>\n",
              "      <td>0.1596</td>\n",
              "      <td>23.213432</td>\n",
              "      <td>8.228580</td>\n",
              "      <td>1.0</td>\n",
              "      <td>I</td>\n",
              "    </tr>\n",
              "  </tbody>\n",
              "</table>\n",
              "<p>203 rows × 7 columns</p>\n",
              "</div>"
            ],
            "text/plain": [
              "        C1        C2      C3         C4         C5   C6 C7\n",
              "640     P1  0.396344  0.3774  10.595758   8.196581  1.0  I\n",
              "641     P1  0.519790  0.3774  31.146135  17.518175  1.0  I\n",
              "642     P1  0.746883  0.3774  43.689390  27.477392  1.0  I\n",
              "643     P1  1.058241  0.3774  41.687670  53.899902  1.0  I\n",
              "644     P1  1.075354  0.3774   1.617172  95.150161  1.0  I\n",
              "...    ...       ...     ...        ...        ...  ... ..\n",
              "19706  P38  0.582631  0.2213  78.014906  68.625281  1.0  I\n",
              "19707  P38  0.798432  0.2213  37.038953  58.965505  1.0  I\n",
              "19708  P38  0.934530  0.2213  17.045683  57.641299  1.0  I\n",
              "21851  P39  0.559466  0.1596   1.100819   2.167281  1.0  I\n",
              "21852  P39  0.689337  0.1596  23.213432   8.228580  1.0  I\n",
              "\n",
              "[203 rows x 7 columns]"
            ]
          },
          "execution_count": 34,
          "metadata": {},
          "output_type": "execute_result"
        }
      ]
    },
    {
      "cell_type": "code",
      "metadata": {
        "id": "a0c57b89",
        "outputId": "30e2475e-ce60-4d7f-d54f-5210e75664e3"
      },
      "source": [
        "dfi.C6.unique()"
      ],
      "id": "a0c57b89",
      "execution_count": null,
      "outputs": [
        {
          "data": {
            "text/plain": [
              "array([1.])"
            ]
          },
          "execution_count": 43,
          "metadata": {},
          "output_type": "execute_result"
        }
      ]
    },
    {
      "cell_type": "code",
      "metadata": {
        "id": "51007708"
      },
      "source": [
        "### from above 3 rows we can see that c6 value 1 is unique with c7 value S and I\n",
        "## nan value of c6 is unique with c7 value of N"
      ],
      "id": "51007708",
      "execution_count": null,
      "outputs": []
    },
    {
      "cell_type": "code",
      "metadata": {
        "id": "66594dca"
      },
      "source": [
        "#since C6 has binary value. which means that nan values has to be replaced with 0.\n"
      ],
      "id": "66594dca",
      "execution_count": null,
      "outputs": []
    },
    {
      "cell_type": "code",
      "metadata": {
        "id": "8c4c0c30"
      },
      "source": [
        "df1.fillna(0,inplace=True)"
      ],
      "id": "8c4c0c30",
      "execution_count": null,
      "outputs": []
    },
    {
      "cell_type": "code",
      "metadata": {
        "id": "d724a09b",
        "outputId": "a5ea0027-ccd8-4387-a20d-3cdd8ea0cd7b"
      },
      "source": [
        "df1"
      ],
      "id": "d724a09b",
      "execution_count": null,
      "outputs": [
        {
          "data": {
            "text/html": [
              "<div>\n",
              "<style scoped>\n",
              "    .dataframe tbody tr th:only-of-type {\n",
              "        vertical-align: middle;\n",
              "    }\n",
              "\n",
              "    .dataframe tbody tr th {\n",
              "        vertical-align: top;\n",
              "    }\n",
              "\n",
              "    .dataframe thead th {\n",
              "        text-align: right;\n",
              "    }\n",
              "</style>\n",
              "<table border=\"1\" class=\"dataframe\">\n",
              "  <thead>\n",
              "    <tr style=\"text-align: right;\">\n",
              "      <th></th>\n",
              "      <th>C1</th>\n",
              "      <th>C2</th>\n",
              "      <th>C3</th>\n",
              "      <th>C4</th>\n",
              "      <th>C5</th>\n",
              "      <th>C6</th>\n",
              "      <th>C7</th>\n",
              "    </tr>\n",
              "  </thead>\n",
              "  <tbody>\n",
              "    <tr>\n",
              "      <th>0</th>\n",
              "      <td>P1</td>\n",
              "      <td>0.394667</td>\n",
              "      <td>0.0000</td>\n",
              "      <td>0.000000</td>\n",
              "      <td>0.000000</td>\n",
              "      <td>0.0</td>\n",
              "      <td>N</td>\n",
              "    </tr>\n",
              "    <tr>\n",
              "      <th>1</th>\n",
              "      <td>P1</td>\n",
              "      <td>0.387915</td>\n",
              "      <td>0.0000</td>\n",
              "      <td>-1.710853</td>\n",
              "      <td>0.000000</td>\n",
              "      <td>0.0</td>\n",
              "      <td>N</td>\n",
              "    </tr>\n",
              "    <tr>\n",
              "      <th>2</th>\n",
              "      <td>P1</td>\n",
              "      <td>0.361299</td>\n",
              "      <td>0.0104</td>\n",
              "      <td>-6.861376</td>\n",
              "      <td>0.000000</td>\n",
              "      <td>1.0</td>\n",
              "      <td>S</td>\n",
              "    </tr>\n",
              "    <tr>\n",
              "      <th>3</th>\n",
              "      <td>P1</td>\n",
              "      <td>0.488484</td>\n",
              "      <td>0.0104</td>\n",
              "      <td>35.202105</td>\n",
              "      <td>0.000000</td>\n",
              "      <td>1.0</td>\n",
              "      <td>S</td>\n",
              "    </tr>\n",
              "    <tr>\n",
              "      <th>4</th>\n",
              "      <td>P1</td>\n",
              "      <td>0.398206</td>\n",
              "      <td>0.0000</td>\n",
              "      <td>-18.481272</td>\n",
              "      <td>8.040560</td>\n",
              "      <td>0.0</td>\n",
              "      <td>N</td>\n",
              "    </tr>\n",
              "    <tr>\n",
              "      <th>...</th>\n",
              "      <td>...</td>\n",
              "      <td>...</td>\n",
              "      <td>...</td>\n",
              "      <td>...</td>\n",
              "      <td>...</td>\n",
              "      <td>...</td>\n",
              "      <td>...</td>\n",
              "    </tr>\n",
              "    <tr>\n",
              "      <th>22002</th>\n",
              "      <td>P39</td>\n",
              "      <td>0.554910</td>\n",
              "      <td>0.0000</td>\n",
              "      <td>1.123600</td>\n",
              "      <td>2.421191</td>\n",
              "      <td>0.0</td>\n",
              "      <td>N</td>\n",
              "    </tr>\n",
              "    <tr>\n",
              "      <th>22003</th>\n",
              "      <td>P39</td>\n",
              "      <td>0.532207</td>\n",
              "      <td>0.0000</td>\n",
              "      <td>-4.091244</td>\n",
              "      <td>1.984920</td>\n",
              "      <td>0.0</td>\n",
              "      <td>N</td>\n",
              "    </tr>\n",
              "    <tr>\n",
              "      <th>22004</th>\n",
              "      <td>P39</td>\n",
              "      <td>0.501031</td>\n",
              "      <td>0.0000</td>\n",
              "      <td>-5.857833</td>\n",
              "      <td>1.010012</td>\n",
              "      <td>0.0</td>\n",
              "      <td>N</td>\n",
              "    </tr>\n",
              "    <tr>\n",
              "      <th>22005</th>\n",
              "      <td>P39</td>\n",
              "      <td>0.511827</td>\n",
              "      <td>0.0000</td>\n",
              "      <td>2.154771</td>\n",
              "      <td>1.493184</td>\n",
              "      <td>0.0</td>\n",
              "      <td>N</td>\n",
              "    </tr>\n",
              "    <tr>\n",
              "      <th>22006</th>\n",
              "      <td>P39</td>\n",
              "      <td>0.509296</td>\n",
              "      <td>0.0000</td>\n",
              "      <td>-0.494660</td>\n",
              "      <td>1.803763</td>\n",
              "      <td>0.0</td>\n",
              "      <td>N</td>\n",
              "    </tr>\n",
              "  </tbody>\n",
              "</table>\n",
              "<p>22007 rows × 7 columns</p>\n",
              "</div>"
            ],
            "text/plain": [
              "        C1        C2      C3         C4        C5   C6 C7\n",
              "0       P1  0.394667  0.0000   0.000000  0.000000  0.0  N\n",
              "1       P1  0.387915  0.0000  -1.710853  0.000000  0.0  N\n",
              "2       P1  0.361299  0.0104  -6.861376  0.000000  1.0  S\n",
              "3       P1  0.488484  0.0104  35.202105  0.000000  1.0  S\n",
              "4       P1  0.398206  0.0000 -18.481272  8.040560  0.0  N\n",
              "...    ...       ...     ...        ...       ...  ... ..\n",
              "22002  P39  0.554910  0.0000   1.123600  2.421191  0.0  N\n",
              "22003  P39  0.532207  0.0000  -4.091244  1.984920  0.0  N\n",
              "22004  P39  0.501031  0.0000  -5.857833  1.010012  0.0  N\n",
              "22005  P39  0.511827  0.0000   2.154771  1.493184  0.0  N\n",
              "22006  P39  0.509296  0.0000  -0.494660  1.803763  0.0  N\n",
              "\n",
              "[22007 rows x 7 columns]"
            ]
          },
          "execution_count": 348,
          "metadata": {},
          "output_type": "execute_result"
        }
      ]
    },
    {
      "cell_type": "code",
      "metadata": {
        "id": "e7095ed4"
      },
      "source": [
        "#### question 2"
      ],
      "id": "e7095ed4",
      "execution_count": null,
      "outputs": []
    },
    {
      "cell_type": "code",
      "metadata": {
        "id": "639c75e9"
      },
      "source": [
        "## we have already created seperate dataframe for unique values of c7. so now we have to only count the rows present \n",
        "#in those dataframe to calculate percentage \n"
      ],
      "id": "639c75e9",
      "execution_count": null,
      "outputs": []
    },
    {
      "cell_type": "code",
      "metadata": {
        "id": "76531bce",
        "outputId": "c238c97f-fabb-43c6-c0a5-3f0bf0e483d3"
      },
      "source": [
        "print('no of rows in dataframe=',len(df1))\n",
        "print('no of rows with N=',len(dfn))\n",
        "print('no of rows with S=',len(dfs))\n",
        "print('no of rows with I=',len(dfi))\n",
        "print(\"percentage of N=\",((len(dfn)/len(df1))*100))\n",
        "print(\"percentage of S=\",((len(dfs)/len(df1))*100))\n",
        "print(\"percentage of I=\",((len(dfi)/len(df1))*100))"
      ],
      "id": "76531bce",
      "execution_count": null,
      "outputs": [
        {
          "name": "stdout",
          "output_type": "stream",
          "text": [
            "no of rows in dataframe= 22007\n",
            "no of rows with N= 21106\n",
            "no of rows with S= 698\n",
            "no of rows with I= 203\n",
            "percentage of N= 95.90584813922842\n",
            "percentage of S= 3.1717180896987323\n",
            "percentage of I= 0.9224337710728404\n"
          ]
        }
      ]
    },
    {
      "cell_type": "code",
      "metadata": {
        "id": "b246790d"
      },
      "source": [
        "### question 3\n",
        " ## plot c5 wtr c7['N']"
      ],
      "id": "b246790d",
      "execution_count": null,
      "outputs": []
    },
    {
      "cell_type": "code",
      "metadata": {
        "id": "db6d2e20",
        "outputId": "85055702-7f93-4850-b608-6a5ce94a58ea"
      },
      "source": [
        "dfn.plot.hist(by='C5', bins=10)"
      ],
      "id": "db6d2e20",
      "execution_count": null,
      "outputs": [
        {
          "data": {
            "text/plain": [
              "<AxesSubplot:ylabel='Frequency'>"
            ]
          },
          "execution_count": 77,
          "metadata": {},
          "output_type": "execute_result"
        },
        {
          "data": {
            "image/png": "[encoded data removed]",
            "text/plain": [
              "<Figure size 432x288 with 1 Axes>"
            ]
          },
          "metadata": {
            "needs_background": "light"
          },
          "output_type": "display_data"
        }
      ]
    },
    {
      "cell_type": "code",
      "metadata": {
        "id": "d18c2138"
      },
      "source": [
        "### question 4\n"
      ],
      "id": "d18c2138",
      "execution_count": null,
      "outputs": []
    },
    {
      "cell_type": "code",
      "metadata": {
        "id": "650e3f12",
        "outputId": "ece682fc-d508-447c-e418-e12a7dd82cae"
      },
      "source": [
        "df4=df1[(df1['C3']==0) & (df1['C6']==0)]\n",
        "df4\n"
      ],
      "id": "650e3f12",
      "execution_count": null,
      "outputs": [
        {
          "data": {
            "text/html": [
              "<div>\n",
              "<style scoped>\n",
              "    .dataframe tbody tr th:only-of-type {\n",
              "        vertical-align: middle;\n",
              "    }\n",
              "\n",
              "    .dataframe tbody tr th {\n",
              "        vertical-align: top;\n",
              "    }\n",
              "\n",
              "    .dataframe thead th {\n",
              "        text-align: right;\n",
              "    }\n",
              "</style>\n",
              "<table border=\"1\" class=\"dataframe\">\n",
              "  <thead>\n",
              "    <tr style=\"text-align: right;\">\n",
              "      <th></th>\n",
              "      <th>C1</th>\n",
              "      <th>C2</th>\n",
              "      <th>C3</th>\n",
              "      <th>C4</th>\n",
              "      <th>C5</th>\n",
              "      <th>C6</th>\n",
              "      <th>C7</th>\n",
              "    </tr>\n",
              "  </thead>\n",
              "  <tbody>\n",
              "    <tr>\n",
              "      <th>0</th>\n",
              "      <td>P1</td>\n",
              "      <td>0.394667</td>\n",
              "      <td>0.0</td>\n",
              "      <td>0.000000</td>\n",
              "      <td>0.000000</td>\n",
              "      <td>0.0</td>\n",
              "      <td>N</td>\n",
              "    </tr>\n",
              "    <tr>\n",
              "      <th>1</th>\n",
              "      <td>P1</td>\n",
              "      <td>0.387915</td>\n",
              "      <td>0.0</td>\n",
              "      <td>-1.710853</td>\n",
              "      <td>0.000000</td>\n",
              "      <td>0.0</td>\n",
              "      <td>N</td>\n",
              "    </tr>\n",
              "    <tr>\n",
              "      <th>4</th>\n",
              "      <td>P1</td>\n",
              "      <td>0.398206</td>\n",
              "      <td>0.0</td>\n",
              "      <td>-18.481272</td>\n",
              "      <td>8.040560</td>\n",
              "      <td>0.0</td>\n",
              "      <td>N</td>\n",
              "    </tr>\n",
              "    <tr>\n",
              "      <th>5</th>\n",
              "      <td>P1</td>\n",
              "      <td>0.384828</td>\n",
              "      <td>0.0</td>\n",
              "      <td>-3.359605</td>\n",
              "      <td>7.487519</td>\n",
              "      <td>0.0</td>\n",
              "      <td>N</td>\n",
              "    </tr>\n",
              "    <tr>\n",
              "      <th>6</th>\n",
              "      <td>P1</td>\n",
              "      <td>0.399259</td>\n",
              "      <td>0.0</td>\n",
              "      <td>3.750137</td>\n",
              "      <td>6.172650</td>\n",
              "      <td>0.0</td>\n",
              "      <td>N</td>\n",
              "    </tr>\n",
              "    <tr>\n",
              "      <th>...</th>\n",
              "      <td>...</td>\n",
              "      <td>...</td>\n",
              "      <td>...</td>\n",
              "      <td>...</td>\n",
              "      <td>...</td>\n",
              "      <td>...</td>\n",
              "      <td>...</td>\n",
              "    </tr>\n",
              "    <tr>\n",
              "      <th>22002</th>\n",
              "      <td>P39</td>\n",
              "      <td>0.554910</td>\n",
              "      <td>0.0</td>\n",
              "      <td>1.123600</td>\n",
              "      <td>2.421191</td>\n",
              "      <td>0.0</td>\n",
              "      <td>N</td>\n",
              "    </tr>\n",
              "    <tr>\n",
              "      <th>22003</th>\n",
              "      <td>P39</td>\n",
              "      <td>0.532207</td>\n",
              "      <td>0.0</td>\n",
              "      <td>-4.091244</td>\n",
              "      <td>1.984920</td>\n",
              "      <td>0.0</td>\n",
              "      <td>N</td>\n",
              "    </tr>\n",
              "    <tr>\n",
              "      <th>22004</th>\n",
              "      <td>P39</td>\n",
              "      <td>0.501031</td>\n",
              "      <td>0.0</td>\n",
              "      <td>-5.857833</td>\n",
              "      <td>1.010012</td>\n",
              "      <td>0.0</td>\n",
              "      <td>N</td>\n",
              "    </tr>\n",
              "    <tr>\n",
              "      <th>22005</th>\n",
              "      <td>P39</td>\n",
              "      <td>0.511827</td>\n",
              "      <td>0.0</td>\n",
              "      <td>2.154771</td>\n",
              "      <td>1.493184</td>\n",
              "      <td>0.0</td>\n",
              "      <td>N</td>\n",
              "    </tr>\n",
              "    <tr>\n",
              "      <th>22006</th>\n",
              "      <td>P39</td>\n",
              "      <td>0.509296</td>\n",
              "      <td>0.0</td>\n",
              "      <td>-0.494660</td>\n",
              "      <td>1.803763</td>\n",
              "      <td>0.0</td>\n",
              "      <td>N</td>\n",
              "    </tr>\n",
              "  </tbody>\n",
              "</table>\n",
              "<p>21106 rows × 7 columns</p>\n",
              "</div>"
            ],
            "text/plain": [
              "        C1        C2   C3         C4        C5   C6 C7\n",
              "0       P1  0.394667  0.0   0.000000  0.000000  0.0  N\n",
              "1       P1  0.387915  0.0  -1.710853  0.000000  0.0  N\n",
              "4       P1  0.398206  0.0 -18.481272  8.040560  0.0  N\n",
              "5       P1  0.384828  0.0  -3.359605  7.487519  0.0  N\n",
              "6       P1  0.399259  0.0   3.750137  6.172650  0.0  N\n",
              "...    ...       ...  ...        ...       ...  ... ..\n",
              "22002  P39  0.554910  0.0   1.123600  2.421191  0.0  N\n",
              "22003  P39  0.532207  0.0  -4.091244  1.984920  0.0  N\n",
              "22004  P39  0.501031  0.0  -5.857833  1.010012  0.0  N\n",
              "22005  P39  0.511827  0.0   2.154771  1.493184  0.0  N\n",
              "22006  P39  0.509296  0.0  -0.494660  1.803763  0.0  N\n",
              "\n",
              "[21106 rows x 7 columns]"
            ]
          },
          "execution_count": 106,
          "metadata": {},
          "output_type": "execute_result"
        }
      ]
    },
    {
      "cell_type": "code",
      "metadata": {
        "id": "9d7460fb",
        "outputId": "83a99e92-e66d-4142-9268-aa722454f7c8"
      },
      "source": [
        "print(\"count of person having C3 and C6 as 0 =\",len(df4))"
      ],
      "id": "9d7460fb",
      "execution_count": null,
      "outputs": [
        {
          "name": "stdout",
          "output_type": "stream",
          "text": [
            "count of person having C3 and C6 as 0 = 21106\n"
          ]
        }
      ]
    },
    {
      "cell_type": "code",
      "metadata": {
        "id": "058f60fb"
      },
      "source": [
        "### question 6\n"
      ],
      "id": "058f60fb",
      "execution_count": null,
      "outputs": []
    },
    {
      "cell_type": "code",
      "metadata": {
        "id": "d234bc9c",
        "outputId": "62d8ccc6-99af-4ca4-ed00-5646053e6056"
      },
      "source": [
        "df11=df1[['C4','C7']]\n",
        "df11['count']=df11['C7']\n",
        "df11\n",
        "gdf1 = df11.groupby([\"C7\"])['count'].count()\n",
        "gdf1=gdf1.to_frame()\n",
        "gdf1.reset_index(inplace=True)\n",
        "gdf11 = df11.groupby([\"C7\"])\n",
        "gdf11=gdf11.mean()\n",
        "gdf11.reset_index(inplace=True)\n",
        "result = gdf1.merge(gdf11,left_on='C7', right_on='C7')\n",
        "result.columns = ['C7', 'count','mean']\n",
        "print(\"mean and count of target variable:\")\n",
        "result"
      ],
      "id": "d234bc9c",
      "execution_count": null,
      "outputs": [
        {
          "name": "stdout",
          "output_type": "stream",
          "text": [
            "mean and count of target variable:\n"
          ]
        },
        {
          "name": "stderr",
          "output_type": "stream",
          "text": [
            "C:\\Users\\kumar\\AppData\\Local\\Temp/ipykernel_4404/789432269.py:2: SettingWithCopyWarning: \n",
            "A value is trying to be set on a copy of a slice from a DataFrame.\n",
            "Try using .loc[row_indexer,col_indexer] = value instead\n",
            "\n",
            "See the caveats in the documentation: https://pandas.pydata.org/pandas-docs/stable/user_guide/indexing.html#returning-a-view-versus-a-copy\n",
            "  df11['count']=df11['C7']\n"
          ]
        },
        {
          "data": {
            "text/html": [
              "<div>\n",
              "<style scoped>\n",
              "    .dataframe tbody tr th:only-of-type {\n",
              "        vertical-align: middle;\n",
              "    }\n",
              "\n",
              "    .dataframe tbody tr th {\n",
              "        vertical-align: top;\n",
              "    }\n",
              "\n",
              "    .dataframe thead th {\n",
              "        text-align: right;\n",
              "    }\n",
              "</style>\n",
              "<table border=\"1\" class=\"dataframe\">\n",
              "  <thead>\n",
              "    <tr style=\"text-align: right;\">\n",
              "      <th></th>\n",
              "      <th>C7</th>\n",
              "      <th>count</th>\n",
              "      <th>mean</th>\n",
              "    </tr>\n",
              "  </thead>\n",
              "  <tbody>\n",
              "    <tr>\n",
              "      <th>0</th>\n",
              "      <td>I</td>\n",
              "      <td>203</td>\n",
              "      <td>17.512347</td>\n",
              "    </tr>\n",
              "    <tr>\n",
              "      <th>1</th>\n",
              "      <td>N</td>\n",
              "      <td>21106</td>\n",
              "      <td>0.194087</td>\n",
              "    </tr>\n",
              "    <tr>\n",
              "      <th>2</th>\n",
              "      <td>S</td>\n",
              "      <td>698</td>\n",
              "      <td>8.368522</td>\n",
              "    </tr>\n",
              "  </tbody>\n",
              "</table>\n",
              "</div>"
            ],
            "text/plain": [
              "  C7  count       mean\n",
              "0  I    203  17.512347\n",
              "1  N  21106   0.194087\n",
              "2  S    698   8.368522"
            ]
          },
          "execution_count": 252,
          "metadata": {},
          "output_type": "execute_result"
        }
      ]
    },
    {
      "cell_type": "code",
      "metadata": {
        "id": "08cc5603"
      },
      "source": [
        "#### question 7"
      ],
      "id": "08cc5603",
      "execution_count": null,
      "outputs": []
    },
    {
      "cell_type": "code",
      "metadata": {
        "id": "ac051065",
        "outputId": "a5a4755a-3828-4eba-bebf-6c2d2625319c"
      },
      "source": [
        "d7=df1.pivot_table(columns=['C1'], aggfunc='size')\n",
        "d7=d7.to_frame()\n",
        "d7.reset_index(inplace=True)\n",
        "s=d7[0].idxmax()\n",
        "print(\"the person code that got highest number of entries in the dataset=\",d7['C1'].iloc[s])"
      ],
      "id": "ac051065",
      "execution_count": null,
      "outputs": [
        {
          "name": "stdout",
          "output_type": "stream",
          "text": [
            "the person code that got highest number of entries in the dataset= P6\n"
          ]
        }
      ]
    },
    {
      "cell_type": "code",
      "metadata": {
        "id": "b620a911"
      },
      "source": [
        "### question 8"
      ],
      "id": "b620a911",
      "execution_count": null,
      "outputs": []
    },
    {
      "cell_type": "code",
      "metadata": {
        "id": "e3a06331",
        "outputId": "c513c4da-43f3-4e85-a4aa-34f624523d6a"
      },
      "source": [
        "\n",
        "d7=dfi.pivot_table(columns=['C1'], aggfunc='size')\n",
        "d7=d7.to_frame()\n",
        "d7.reset_index(inplace=True)\n",
        "s=d7[0].idxmax()\n",
        "print(\"the person code that got highest number of entries in the dataset=\",d7['C1'].iloc[s])"
      ],
      "id": "e3a06331",
      "execution_count": null,
      "outputs": [
        {
          "name": "stdout",
          "output_type": "stream",
          "text": [
            "the person code that got highest number of entries in the dataset= P3\n"
          ]
        }
      ]
    },
    {
      "cell_type": "code",
      "metadata": {
        "id": "3a15067c"
      },
      "source": [
        "### question 9"
      ],
      "id": "3a15067c",
      "execution_count": null,
      "outputs": []
    },
    {
      "cell_type": "code",
      "metadata": {
        "id": "81c475f3"
      },
      "source": [
        "## the featuree c4 has negative value there for we can not use chi2 for determining feature importance \n",
        "## Feature importance is an inbuilt class that comes with Tree Based Classifiers, \n",
        "## we will be using Extra Tree Classifier for extracting the top features for the dataset."
      ],
      "id": "81c475f3",
      "execution_count": null,
      "outputs": []
    },
    {
      "cell_type": "code",
      "metadata": {
        "id": "eee8651e",
        "outputId": "e2fc7a16-5929-45c4-8657-51075972a877"
      },
      "source": [
        "from sklearn.ensemble import ExtraTreesClassifier\n",
        "import matplotlib.pyplot as plt\n",
        "X = df1.iloc[:,1:6]  #independent columns\n",
        "y = df1.iloc[:,-1] \n",
        "model = ExtraTreesClassifier()\n",
        "model.fit(X,y)\n",
        "feat_importances = pd.Series(model.feature_importances_, index=X.columns)\n",
        "d9=feat_importances.nlargest()\n",
        "print(\"feature importance in descending order is given below:\")\n",
        "d9"
      ],
      "id": "eee8651e",
      "execution_count": null,
      "outputs": [
        {
          "name": "stdout",
          "output_type": "stream",
          "text": [
            "feature importance in descending order is given below:\n"
          ]
        },
        {
          "data": {
            "text/plain": [
              "C6    0.685405\n",
              "C3    0.193847\n",
              "C2    0.044645\n",
              "C5    0.040572\n",
              "C4    0.035530\n",
              "dtype: float64"
            ]
          },
          "execution_count": 279,
          "metadata": {},
          "output_type": "execute_result"
        }
      ]
    },
    {
      "cell_type": "code",
      "metadata": {
        "id": "515e36d1"
      },
      "source": [
        "### question 10"
      ],
      "id": "515e36d1",
      "execution_count": null,
      "outputs": []
    },
    {
      "cell_type": "code",
      "metadata": {
        "id": "3021550e"
      },
      "source": [
        "# A:\n",
        "#ans:plot 3\n",
        "# B:\n",
        "#ans:plot 2\n",
        "# c:\n",
        "#ans:plot 4"
      ],
      "id": "3021550e",
      "execution_count": null,
      "outputs": []
    },
    {
      "cell_type": "code",
      "metadata": {
        "id": "ebc341c7"
      },
      "source": [
        "### question 11"
      ],
      "id": "ebc341c7",
      "execution_count": null,
      "outputs": []
    },
    {
      "cell_type": "code",
      "metadata": {
        "id": "751dbfdc",
        "outputId": "de9d98a9-8cff-4246-e945-636a74e2ae4e"
      },
      "source": [
        "X = df1.C2\n",
        "result = adfuller(X)\n",
        "print('ADF Statistic: %f' % result[0])\n",
        "print('p-value: %f' % result[1])\n",
        "print('Critical Values:')\n",
        "for key, value in result[4].items():\n",
        "    print('\\t%s: %.3f' % (key, value))\n",
        "p=result[1]\n",
        "print('')\n",
        "if p<= 0.05:\n",
        "    print('Data set is stationary')\n",
        "else:\n",
        "    print('Data set is non-stationary')"
      ],
      "id": "751dbfdc",
      "execution_count": null,
      "outputs": [
        {
          "name": "stdout",
          "output_type": "stream",
          "text": [
            "ADF Statistic: -7.637584\n",
            "p-value: 0.000000\n",
            "Critical Values:\n",
            "\t1%: -3.431\n",
            "\t5%: -2.862\n",
            "\t10%: -2.567\n",
            "\n",
            "Data set is stationary\n"
          ]
        }
      ]
    },
    {
      "cell_type": "code",
      "metadata": {
        "id": "54ed1b41"
      },
      "source": [
        "### question 12"
      ],
      "id": "54ed1b41",
      "execution_count": null,
      "outputs": []
    },
    {
      "cell_type": "code",
      "metadata": {
        "id": "6f3947df"
      },
      "source": [
        "## first lets check if the dataset follows gausian distribution or not.\n",
        "## if it follows gausian distribution then we will go for Standardize\n",
        "## if it does not follow gausian distribution then we will go for normalization"
      ],
      "id": "6f3947df",
      "execution_count": null,
      "outputs": []
    },
    {
      "cell_type": "code",
      "metadata": {
        "id": "3aa0da17",
        "outputId": "89ccfa02-820a-4408-da7b-0f0d50317b6e"
      },
      "source": [
        "df1.hist(bins=40)"
      ],
      "id": "3aa0da17",
      "execution_count": null,
      "outputs": [
        {
          "data": {
            "text/plain": [
              "array([[<AxesSubplot:title={'center':'C2'}>,\n",
              "        <AxesSubplot:title={'center':'C3'}>],\n",
              "       [<AxesSubplot:title={'center':'C4'}>,\n",
              "        <AxesSubplot:title={'center':'C5'}>],\n",
              "       [<AxesSubplot:title={'center':'C6'}>, <AxesSubplot:>]],\n",
              "      dtype=object)"
            ]
          },
          "execution_count": 287,
          "metadata": {},
          "output_type": "execute_result"
        },
        {
          "data": {
            "image/png": "[encoded data removed]",
            "text/plain": [
              "<Figure size 432x288 with 6 Axes>"
            ]
          },
          "metadata": {
            "needs_background": "light"
          },
          "output_type": "display_data"
        }
      ]
    },
    {
      "cell_type": "code",
      "metadata": {
        "id": "83acca74"
      },
      "source": [
        "## we can see that dataset does not follow gausian distribution. so we will go for normalization"
      ],
      "id": "83acca74",
      "execution_count": null,
      "outputs": []
    },
    {
      "cell_type": "code",
      "metadata": {
        "id": "917717d3"
      },
      "source": [
        "# spliting training and testing data\n",
        "from sklearn.model_selection import train_test_split\n",
        "\n",
        "X = df1.iloc[:,1:6].values  #independent columns\n",
        "y = df1.iloc[:,-1].values\n"
      ],
      "id": "917717d3",
      "execution_count": null,
      "outputs": []
    },
    {
      "cell_type": "code",
      "metadata": {
        "id": "f526d35c",
        "outputId": "d1c35991-2404-4d62-9377-25ef81674703"
      },
      "source": [
        "from sklearn import preprocessing\n",
        "  \n",
        "# label_encoder object knows how to understand word labels.\n",
        "label_encoder = preprocessing.LabelEncoder()\n",
        "  \n",
        "# Encode labels in column 'species'.\n",
        "y= label_encoder.fit_transform(y)\n",
        "y"
      ],
      "id": "f526d35c",
      "execution_count": null,
      "outputs": [
        {
          "data": {
            "text/plain": [
              "array([1, 1, 2, ..., 1, 1, 1], dtype=int64)"
            ]
          },
          "execution_count": 438,
          "metadata": {},
          "output_type": "execute_result"
        }
      ]
    },
    {
      "cell_type": "code",
      "metadata": {
        "id": "0dae486f",
        "outputId": "3d03441b-77fc-4d8f-de94-555df7099a1f"
      },
      "source": [
        "label_encoder.classes_"
      ],
      "id": "0dae486f",
      "execution_count": null,
      "outputs": [
        {
          "data": {
            "text/plain": [
              "array([0, 1, 2])"
            ]
          },
          "execution_count": 439,
          "metadata": {},
          "output_type": "execute_result"
        }
      ]
    },
    {
      "cell_type": "code",
      "metadata": {
        "id": "9934c96c"
      },
      "source": [
        "X_train, X_test, y_train, y_test = train_test_split(X, y, test_size=0.2, random_state=0)"
      ],
      "id": "9934c96c",
      "execution_count": null,
      "outputs": []
    },
    {
      "cell_type": "code",
      "metadata": {
        "id": "70586a0c",
        "outputId": "e6a09918-8c3e-4c3b-e54a-e24e9db1e9be"
      },
      "source": [
        "X_train"
      ],
      "id": "70586a0c",
      "execution_count": null,
      "outputs": [
        {
          "data": {
            "text/plain": [
              "array([[  0.25197357,   0.        ,   1.18723745,   0.45205645,\n",
              "          0.        ],\n",
              "       [  0.25460336,   0.        ,  -0.33204123,   0.789374  ,\n",
              "          0.        ],\n",
              "       [  0.27178021,   0.        ,  -1.84717656,   0.40085632,\n",
              "          0.        ],\n",
              "       ...,\n",
              "       [  0.23554539,   0.        ,  28.66143741,   4.9280036 ,\n",
              "          0.        ],\n",
              "       [  1.45613283,   0.        ,   3.77356697,   0.06283814,\n",
              "          0.        ],\n",
              "       [  0.25553718,   0.        , -14.09127823,   0.25828858,\n",
              "          0.        ]])"
            ]
          },
          "execution_count": 441,
          "metadata": {},
          "output_type": "execute_result"
        }
      ]
    },
    {
      "cell_type": "code",
      "metadata": {
        "id": "d4a18437"
      },
      "source": [
        ""
      ],
      "id": "d4a18437",
      "execution_count": null,
      "outputs": []
    },
    {
      "cell_type": "code",
      "metadata": {
        "id": "c6bfe4ca"
      },
      "source": [
        ""
      ],
      "id": "c6bfe4ca",
      "execution_count": null,
      "outputs": []
    },
    {
      "cell_type": "code",
      "metadata": {
        "id": "4c83f9bf"
      },
      "source": [
        "# data normalization with sklearn\n",
        "from sklearn.preprocessing import MinMaxScaler\n",
        "\n",
        "# fit scaler on training data\n",
        "norm = MinMaxScaler().fit(X_train)\n",
        "\n",
        "# transform training data\n",
        "X_train_norm = norm.transform(X_train)\n",
        "\n",
        "# transform testing dataabs\n",
        "X_test_norm = norm.transform(X_test)"
      ],
      "id": "4c83f9bf",
      "execution_count": null,
      "outputs": []
    },
    {
      "cell_type": "code",
      "metadata": {
        "id": "f6679862",
        "outputId": "af5ab5fa-de98-4a2e-a535-a75871984a0b"
      },
      "source": [
        "X_train_norm"
      ],
      "id": "f6679862",
      "execution_count": null,
      "outputs": [
        {
          "data": {
            "text/plain": [
              "array([[7.75544803e-02, 0.00000000e+00, 2.60938270e-01, 3.09292475e-03,\n",
              "        0.00000000e+00],\n",
              "       [7.93002254e-02, 0.00000000e+00, 2.55136675e-01, 5.40081742e-03,\n",
              "        0.00000000e+00],\n",
              "       [9.07028160e-02, 0.00000000e+00, 2.49350902e-01, 2.74261858e-03,\n",
              "        0.00000000e+00],\n",
              "       ...,\n",
              "       [6.66488819e-02, 0.00000000e+00, 3.65852652e-01, 3.37169045e-02,\n",
              "        0.00000000e+00],\n",
              "       [8.76917421e-01, 0.00000000e+00, 2.70814560e-01, 4.29932201e-04,\n",
              "        0.00000000e+00],\n",
              "       [7.99201320e-02, 0.00000000e+00, 2.02594951e-01, 1.76718446e-03,\n",
              "        0.00000000e+00]])"
            ]
          },
          "execution_count": 443,
          "metadata": {},
          "output_type": "execute_result"
        }
      ]
    },
    {
      "cell_type": "code",
      "metadata": {
        "id": "dfb51862"
      },
      "source": [
        "from sklearn.neighbors import KNeighborsClassifier"
      ],
      "id": "dfb51862",
      "execution_count": null,
      "outputs": []
    },
    {
      "cell_type": "code",
      "metadata": {
        "id": "80491a8a",
        "outputId": "e6014ea1-436a-4676-dd3d-83500d0e8951"
      },
      "source": [
        "knn=KNeighborsClassifier(n_neighbors=1)\n",
        "knn.fit(X_train, y_train)"
      ],
      "id": "80491a8a",
      "execution_count": null,
      "outputs": [
        {
          "data": {
            "text/plain": [
              "KNeighborsClassifier(n_neighbors=1)"
            ]
          },
          "execution_count": 445,
          "metadata": {},
          "output_type": "execute_result"
        }
      ]
    },
    {
      "cell_type": "code",
      "metadata": {
        "id": "9d5e5e98"
      },
      "source": [
        "y_pred=knn.predict(X_test)"
      ],
      "id": "9d5e5e98",
      "execution_count": null,
      "outputs": []
    },
    {
      "cell_type": "code",
      "metadata": {
        "id": "dabe0519",
        "outputId": "1612d637-6238-434e-d9e3-de569b600392"
      },
      "source": [
        "y_pred"
      ],
      "id": "dabe0519",
      "execution_count": null,
      "outputs": [
        {
          "data": {
            "text/plain": [
              "array([1, 1, 1, ..., 1, 1, 1], dtype=int64)"
            ]
          },
          "execution_count": 447,
          "metadata": {},
          "output_type": "execute_result"
        }
      ]
    },
    {
      "cell_type": "code",
      "metadata": {
        "id": "7e583ee0",
        "outputId": "8c4e0021-27ba-405d-8c12-102504a50325"
      },
      "source": [
        "from sklearn.metrics import confusion_matrix\n",
        "confusion_matrix(y_test, y_pred)"
      ],
      "id": "7e583ee0",
      "execution_count": null,
      "outputs": [
        {
          "data": {
            "text/plain": [
              "array([[  18,   10,   19],\n",
              "       [   7, 4192,    7],\n",
              "       [   9,   36,  104]], dtype=int64)"
            ]
          },
          "execution_count": 448,
          "metadata": {},
          "output_type": "execute_result"
        }
      ]
    },
    {
      "cell_type": "code",
      "metadata": {
        "id": "8263590d"
      },
      "source": [
        "from sklearn.metrics import f1_score\n",
        "from sklearn.metrics import recall_score"
      ],
      "id": "8263590d",
      "execution_count": null,
      "outputs": []
    },
    {
      "cell_type": "code",
      "metadata": {
        "id": "6434fcfb",
        "outputId": "e6c6d27b-1152-4706-b0be-8d342519fe16"
      },
      "source": [
        "f1_score(y_test, y_pred, average='macro')"
      ],
      "id": "6434fcfb",
      "execution_count": null,
      "outputs": [
        {
          "data": {
            "text/plain": [
              "0.7276195068557655"
            ]
          },
          "execution_count": 450,
          "metadata": {},
          "output_type": "execute_result"
        }
      ]
    },
    {
      "cell_type": "code",
      "metadata": {
        "id": "275b6af6",
        "outputId": "d3d46017-9845-40d8-a45c-e83f1c7c403b"
      },
      "source": [
        "recall_score(y_test, y_pred, average='macro')"
      ],
      "id": "275b6af6",
      "execution_count": null,
      "outputs": [
        {
          "data": {
            "text/plain": [
              "0.6925455741212917"
            ]
          },
          "execution_count": 451,
          "metadata": {},
          "output_type": "execute_result"
        }
      ]
    }
  ]
}